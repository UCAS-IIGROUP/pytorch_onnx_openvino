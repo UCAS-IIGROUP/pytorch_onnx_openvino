{
 "cells": [
  {
   "cell_type": "code",
   "execution_count": 1,
   "metadata": {},
   "outputs": [],
   "source": [
    "import numpy as np\n",
    "from torchvision.models.resnet import resnet50\n",
    "import torchvision.transforms as transforms\n",
    "from PIL import Image\n",
    "import torch"
   ]
  },
  {
   "cell_type": "markdown",
   "metadata": {},
   "source": [
    "# Resize and normalize input"
   ]
  },
  {
   "cell_type": "code",
   "execution_count": 2,
   "metadata": {},
   "outputs": [],
   "source": [
    "transform_test = transforms.Compose([\n",
    "    transforms.Resize((224, 224)),\n",
    "    transforms.ToTensor(),\n",
    "    transforms.Normalize((0.4914, 0.4822, 0.4465), (0.2023, 0.1994, 0.2010)),\n",
    "])"
   ]
  },
  {
   "cell_type": "markdown",
   "metadata": {},
   "source": [
    "# First test ResNet50 in PyTorch"
   ]
  },
  {
   "cell_type": "code",
   "execution_count": 3,
   "metadata": {},
   "outputs": [],
   "source": [
    "net = resnet50(pretrained=True)\n",
    "net.eval()\n",
    "im = Image.open('dog.jpeg')\n",
    "x = transform_test(im)\n",
    "x = x.unsqueeze(dim=0)"
   ]
  },
  {
   "cell_type": "markdown",
   "metadata": {},
   "source": [
    "![alt text](dog.jpeg \"Dog test image\")"
   ]
  },
  {
   "cell_type": "markdown",
   "metadata": {},
   "source": [
    "# Save the input vector so that we can use it for OpenVino tests"
   ]
  },
  {
   "cell_type": "code",
   "execution_count": 4,
   "metadata": {},
   "outputs": [
    {
     "name": "stdout",
     "output_type": "stream",
     "text": [
      "torch.Size([1, 3, 224, 224])\n",
      "-rw-rw-r-- 1 ngeorgis ngeorgis 602240 Jan 26 13:17 test_in_vector.npy\r\n"
     ]
    }
   ],
   "source": [
    "print (x.shape)\n",
    "np.save(\"test_in_vector\", x)\n",
    "\n",
    "!ls -l test_in_vector.npy"
   ]
  },
  {
   "cell_type": "markdown",
   "metadata": {},
   "source": [
    "# Run inference "
   ]
  },
  {
   "cell_type": "code",
   "execution_count": 5,
   "metadata": {},
   "outputs": [
    {
     "data": {
      "text/plain": [
       "torch.Size([1000])"
      ]
     },
     "execution_count": 5,
     "metadata": {},
     "output_type": "execute_result"
    }
   ],
   "source": [
    "res = net(x)[0]\n",
    "res.shape"
   ]
  },
  {
   "cell_type": "code",
   "execution_count": 6,
   "metadata": {},
   "outputs": [
    {
     "name": "stdout",
     "output_type": "stream",
     "text": [
      "First ten output values:  tensor([ 0.8970, -3.0496, -2.7042, -0.7480, -3.5622, -1.7981, -4.8486,  0.1094,\n",
      "         0.8685,  0.0536], grad_fn=<SliceBackward>)\n"
     ]
    }
   ],
   "source": [
    "print (\"First ten output values: \", net(x)[0][0:10])"
   ]
  },
  {
   "cell_type": "code",
   "execution_count": 7,
   "metadata": {},
   "outputs": [
    {
     "name": "stdout",
     "output_type": "stream",
     "text": [
      "tensor(235)\n"
     ]
    }
   ],
   "source": [
    "values, indices = res.max(0)\n",
    "print (indices)"
   ]
  },
  {
   "cell_type": "code",
   "execution_count": 8,
   "metadata": {},
   "outputs": [
    {
     "name": "stdout",
     "output_type": "stream",
     "text": [
      "tensor([15.4252, 11.2401, 11.0313,  9.7304,  8.9736,  8.8621,  8.5262,  8.4578,\n",
      "         7.9833,  7.8347], grad_fn=<TopkBackward>)\n",
      "tensor([235, 255, 225, 174, 170, 224, 275, 160, 169, 227])\n"
     ]
    }
   ],
   "source": [
    "values, indices = torch.topk(res, 10)\n",
    "print (values)\n",
    "print (indices)"
   ]
  },
  {
   "cell_type": "code",
   "execution_count": 9,
   "metadata": {},
   "outputs": [],
   "source": [
    "number_top = 10"
   ]
  },
  {
   "cell_type": "code",
   "execution_count": 10,
   "metadata": {},
   "outputs": [
    {
     "name": "stdout",
     "output_type": "stream",
     "text": [
      "['n01440764_tench,_Tinca_tinca', 'n01443537_goldfish,_Carassius_auratus', 'n01484850_great_white_shark,_white_shark,_man-eater,_man-eating_shark,_Carcharodon_carcharias', 'n01491361_tiger_shark,_Galeocerdo_cuvieri', 'n01494475_hammerhead,_hammerhead_shark', 'n01496331_electric_ray,_crampfish,_numbfish,_torpedo', 'n01498041_stingray', 'n01514668_cock', 'n01514859_hen', 'n01518878_ostrich,_Struthio_camelus', 'n01530575_brambling,_Fringilla_montifringilla', 'n01531178_goldfinch,_Carduelis_carduelis', 'n01532829_house_finch,_linnet,_Carpodacus_mexicanus', 'n01534433_junco,_snowbird', 'n01537544_indigo_bunting,_indigo_finch,_indigo_bird,_Passerina_cyanea', 'n01558993_robin,_American_robin,_Turdus_migratorius', 'n01560419_bulbul', 'n01580077_jay', 'n01582220_magpie', 'n01592084_chickadee', 'n01601694_water_ouzel,_dipper', 'n01608432_kite', 'n01614925_bald_eagle,_American_eagle,_Haliaeetus_leucocephalus', 'n01616318_vulture', 'n01622779_great_grey_owl,_great_gray_owl,_Strix_nebulosa', 'n01629819_European_fire_salamander,_Salamandra_salamandra', 'n01630670_common_newt,_Triturus_vulgaris', 'n01631663_eft', 'n01632458_spotted_salamander,_Ambystoma_maculatum', 'n01632777_axolotl,_mud_puppy,_Ambystoma_mexicanum', 'n01641577_bullfrog,_Rana_catesbeiana', 'n01644373_tree_frog,_tree-frog', 'n01644900_tailed_frog,_bell_toad,_ribbed_toad,_tailed_toad,_Ascaphus_trui', 'n01664065_loggerhead,_loggerhead_turtle,_Caretta_caretta', 'n01665541_leatherback_turtle,_leatherback,_leathery_turtle,_Dermochelys_coriacea', 'n01667114_mud_turtle', 'n01667778_terrapin', 'n01669191_box_turtle,_box_tortoise', 'n01675722_banded_gecko', 'n01677366_common_iguana,_iguana,_Iguana_iguana', 'n01682714_American_chameleon,_anole,_Anolis_carolinensis', 'n01685808_whiptail,_whiptail_lizard', 'n01687978_agama', 'n01688243_frilled_lizard,_Chlamydosaurus_kingi', 'n01689811_alligator_lizard', 'n01692333_Gila_monster,_Heloderma_suspectum', 'n01693334_green_lizard,_Lacerta_viridis', 'n01694178_African_chameleon,_Chamaeleo_chamaeleon', 'n01695060_Komodo_dragon,_Komodo_lizard,_dragon_lizard,_giant_lizard,_Varanus_komodoensis', 'n01697457_African_crocodile,_Nile_crocodile,_Crocodylus_niloticus', 'n01698640_American_alligator,_Alligator_mississipiensis', 'n01704323_triceratops', 'n01728572_thunder_snake,_worm_snake,_Carphophis_amoenus', 'n01728920_ringneck_snake,_ring-necked_snake,_ring_snake', 'n01729322_hognose_snake,_puff_adder,_sand_viper', 'n01729977_green_snake,_grass_snake', 'n01734418_king_snake,_kingsnake', 'n01735189_garter_snake,_grass_snake', 'n01737021_water_snake', 'n01739381_vine_snake', 'n01740131_night_snake,_Hypsiglena_torquata', 'n01742172_boa_constrictor,_Constrictor_constrictor', 'n01744401_rock_python,_rock_snake,_Python_sebae', 'n01748264_Indian_cobra,_Naja_naja', 'n01749939_green_mamba', 'n01751748_sea_snake', 'n01753488_horned_viper,_cerastes,_sand_viper,_horned_asp,_Cerastes_cornutus', 'n01755581_diamondback,_diamondback_rattlesnake,_Crotalus_adamanteus', 'n01756291_sidewinder,_horned_rattlesnake,_Crotalus_cerastes', 'n01768244_trilobite', 'n01770081_harvestman,_daddy_longlegs,_Phalangium_opilio', 'n01770393_scorpion', 'n01773157_black_and_gold_garden_spider,_Argiope_aurantia', 'n01773549_barn_spider,_Araneus_cavaticus', 'n01773797_garden_spider,_Aranea_diademata', 'n01774384_black_widow,_Latrodectus_mactans', 'n01774750_tarantula', 'n01775062_wolf_spider,_hunting_spider', 'n01776313_tick', 'n01784675_centipede', 'n01795545_black_grouse', 'n01796340_ptarmigan', 'n01797886_ruffed_grouse,_partridge,_Bonasa_umbellus', 'n01798484_prairie_chicken,_prairie_grouse,_prairie_fowl', 'n01806143_peacock', 'n01806567_quail', 'n01807496_partridge', 'n01817953_African_grey,_African_gray,_Psittacus_erithacus', 'n01818515_macaw', 'n01819313_sulphur-crested_cockatoo,_Kakatoe_galerita,_Cacatua_galerita', 'n01820546_lorikeet', 'n01824575_coucal', 'n01828970_bee_eater', 'n01829413_hornbill', 'n01833805_hummingbird', 'n01843065_jacamar', 'n01843383_toucan', 'n01847000_drake', 'n01855032_red-breasted_merganser,_Mergus_serrator', 'n01855672_goose', 'n01860187_black_swan,_Cygnus_atratus', 'n01871265_tusker', 'n01872401_echidna,_spiny_anteater,_anteater', 'n01873310_platypus,_duckbill,_duckbilled_platypus,_duck-billed_platypus,_Ornithorhynchus_anatinus', 'n01877812_wallaby,_brush_kangaroo', 'n01882714_koala,_koala_bear,_kangaroo_bear,_native_bear,_Phascolarctos_cinereus', 'n01883070_wombat', 'n01910747_jellyfish', 'n01914609_sea_anemone,_anemone', 'n01917289_brain_coral', 'n01924916_flatworm,_platyhelminth', 'n01930112_nematode,_nematode_worm,_roundworm', 'n01943899_conch', 'n01944390_snail', 'n01945685_slug', 'n01950731_sea_slug,_nudibranch', 'n01955084_chiton,_coat-of-mail_shell,_sea_cradle,_polyplacophore', 'n01968897_chambered_nautilus,_pearly_nautilus,_nautilus', 'n01978287_Dungeness_crab,_Cancer_magister', 'n01978455_rock_crab,_Cancer_irroratus', 'n01980166_fiddler_crab', 'n01981276_king_crab,_Alaska_crab,_Alaskan_king_crab,_Alaska_king_crab,_Paralithodes_camtschatica', 'n01983481_American_lobster,_Northern_lobster,_Maine_lobster,_Homarus_americanus', 'n01984695_spiny_lobster,_langouste,_rock_lobster,_crawfish,_crayfish,_sea_crawfish', 'n01985128_crayfish,_crawfish,_crawdad,_crawdaddy', 'n01986214_hermit_crab', 'n01990800_isopod', 'n02002556_white_stork,_Ciconia_ciconia', 'n02002724_black_stork,_Ciconia_nigra', 'n02006656_spoonbill', 'n02007558_flamingo', 'n02009229_little_blue_heron,_Egretta_caerulea', 'n02009912_American_egret,_great_white_heron,_Egretta_albus', 'n02011460_bittern', 'n02012849_crane', 'n02013706_limpkin,_Aramus_pictus', 'n02017213_European_gallinule,_Porphyrio_porphyrio', 'n02018207_American_coot,_marsh_hen,_mud_hen,_water_hen,_Fulica_americana', 'n02018795_bustard', 'n02025239_ruddy_turnstone,_Arenaria_interpres', 'n02027492_red-backed_sandpiper,_dunlin,_Erolia_alpina', 'n02028035_redshank,_Tringa_totanus', 'n02033041_dowitcher', 'n02037110_oystercatcher,_oyster_catcher', 'n02051845_pelican', 'n02056570_king_penguin,_Aptenodytes_patagonica', 'n02058221_albatross,_mollymawk', 'n02066245_grey_whale,_gray_whale,_devilfish,_Eschrichtius_gibbosus,_Eschrichtius_robustus', 'n02071294_killer_whale,_killer,_orca,_grampus,_sea_wolf,_Orcinus_orca', 'n02074367_dugong,_Dugong_dugon', 'n02077923_sea_lion', 'n02085620_Chihuahua', 'n02085782_Japanese_spaniel', 'n02085936_Maltese_dog,_Maltese_terrier,_Maltese', 'n02086079_Pekinese,_Pekingese,_Peke', 'n02086240_Shih-Tzu', 'n02086646_Blenheim_spaniel', 'n02086910_papillon', 'n02087046_toy_terrier', 'n02087394_Rhodesian_ridgeback', 'n02088094_Afghan_hound,_Afghan', 'n02088238_basset,_basset_hound', 'n02088364_beagle', 'n02088466_bloodhound,_sleuthhound', 'n02088632_bluetick', 'n02089078_black-and-tan_coonhound', 'n02089867_Walker_hound,_Walker_foxhound', 'n02089973_English_foxhound', 'n02090379_redbone', 'n02090622_borzoi,_Russian_wolfhound', 'n02090721_Irish_wolfhound', 'n02091032_Italian_greyhound', 'n02091134_whippet', 'n02091244_Ibizan_hound,_Ibizan_Podenco', 'n02091467_Norwegian_elkhound,_elkhound', 'n02091635_otterhound,_otter_hound', 'n02091831_Saluki,_gazelle_hound', 'n02092002_Scottish_deerhound,_deerhound', 'n02092339_Weimaraner', 'n02093256_Staffordshire_bullterrier,_Staffordshire_bull_terrier', 'n02093428_American_Staffordshire_terrier,_Staffordshire_terrier,_American_pit_bull_terrier,_pit_bull_terrier', 'n02093647_Bedlington_terrier', 'n02093754_Border_terrier', 'n02093859_Kerry_blue_terrier', 'n02093991_Irish_terrier', 'n02094114_Norfolk_terrier', 'n02094258_Norwich_terrier', 'n02094433_Yorkshire_terrier', 'n02095314_wire-haired_fox_terrier', 'n02095570_Lakeland_terrier', 'n02095889_Sealyham_terrier,_Sealyham', 'n02096051_Airedale,_Airedale_terrier', 'n02096177_cairn,_cairn_terrier', 'n02096294_Australian_terrier', 'n02096437_Dandie_Dinmont,_Dandie_Dinmont_terrier', 'n02096585_Boston_bull,_Boston_terrier', 'n02097047_miniature_schnauzer', 'n02097130_giant_schnauzer', 'n02097209_standard_schnauzer', 'n02097298_Scotch_terrier,_Scottish_terrier,_Scottie', 'n02097474_Tibetan_terrier,_chrysanthemum_dog', 'n02097658_silky_terrier,_Sydney_silky', 'n02098105_soft-coated_wheaten_terrier', 'n02098286_West_Highland_white_terrier', 'n02098413_Lhasa,_Lhasa_apso', 'n02099267_flat-coated_retriever', 'n02099429_curly-coated_retriever', 'n02099601_golden_retriever', 'n02099712_Labrador_retriever', 'n02099849_Chesapeake_Bay_retriever', 'n02100236_German_short-haired_pointer', 'n02100583_vizsla,_Hungarian_pointer', 'n02100735_English_setter', 'n02100877_Irish_setter,_red_setter', 'n02101006_Gordon_setter', 'n02101388_Brittany_spaniel', 'n02101556_clumber,_clumber_spaniel', 'n02102040_English_springer,_English_springer_spaniel', 'n02102177_Welsh_springer_spaniel', 'n02102318_cocker_spaniel,_English_cocker_spaniel,_cocker', 'n02102480_Sussex_spaniel', 'n02102973_Irish_water_spaniel', 'n02104029_kuvasz', 'n02104365_schipperke', 'n02105056_groenendael', 'n02105162_malinois', 'n02105251_briard', 'n02105412_kelpie', 'n02105505_komondor', 'n02105641_Old_English_sheepdog,_bobtail', 'n02105855_Shetland_sheepdog,_Shetland_sheep_dog,_Shetland', 'n02106030_collie', 'n02106166_Border_collie', 'n02106382_Bouvier_des_Flandres,_Bouviers_des_Flandres', 'n02106550_Rottweiler', 'n02106662_German_shepherd,_German_shepherd_dog,_German_police_dog,_alsatian', 'n02107142_Doberman,_Doberman_pinscher', 'n02107312_miniature_pinscher', 'n02107574_Greater_Swiss_Mountain_dog', 'n02107683_Bernese_mountain_dog', 'n02107908_Appenzeller', 'n02108000_EntleBucher', 'n02108089_boxer', 'n02108422_bull_mastiff', 'n02108551_Tibetan_mastiff', 'n02108915_French_bulldog', 'n02109047_Great_Dane', 'n02109525_Saint_Bernard,_St_Bernard', 'n02109961_Eskimo_dog,_husky', 'n02110063_malamute,_malemute,_Alaskan_malamute', 'n02110185_Siberian_husky', 'n02110341_dalmatian,_coach_dog,_carriage_dog', 'n02110627_affenpinscher,_monkey_pinscher,_monkey_dog', 'n02110806_basenji', 'n02110958_pug,_pug-dog', 'n02111129_Leonberg', 'n02111277_Newfoundland,_Newfoundland_dog', 'n02111500_Great_Pyrenees', 'n02111889_Samoyed,_Samoyede', 'n02112018_Pomeranian', 'n02112137_chow,_chow_chow', 'n02112350_keeshond', 'n02112706_Brabancon_griffon', 'n02113023_Pembroke,_Pembroke_Welsh_corgi', 'n02113186_Cardigan,_Cardigan_Welsh_corgi', 'n02113624_toy_poodle', 'n02113712_miniature_poodle', 'n02113799_standard_poodle', 'n02113978_Mexican_hairless', 'n02114367_timber_wolf,_grey_wolf,_gray_wolf,_Canis_lupus', 'n02114548_white_wolf,_Arctic_wolf,_Canis_lupus_tundrarum', 'n02114712_red_wolf,_maned_wolf,_Canis_rufus,_Canis_niger', 'n02114855_coyote,_prairie_wolf,_brush_wolf,_Canis_latrans', 'n02115641_dingo,_warrigal,_warragal,_Canis_dingo', 'n02115913_dhole,_Cuon_alpinus', 'n02116738_African_hunting_dog,_hyena_dog,_Cape_hunting_dog,_Lycaon_pictus', 'n02117135_hyena,_hyaena', 'n02119022_red_fox,_Vulpes_vulpes', 'n02119789_kit_fox,_Vulpes_macrotis', 'n02120079_Arctic_fox,_white_fox,_Alopex_lagopus', 'n02120505_grey_fox,_gray_fox,_Urocyon_cinereoargenteus', 'n02123045_tabby,_tabby_cat', 'n02123159_tiger_cat', 'n02123394_Persian_cat', 'n02123597_Siamese_cat,_Siamese', 'n02124075_Egyptian_cat', 'n02125311_cougar,_puma,_catamount,_mountain_lion,_painter,_panther,_Felis_concolor', 'n02127052_lynx,_catamount', 'n02128385_leopard,_Panthera_pardus', 'n02128757_snow_leopard,_ounce,_Panthera_uncia', 'n02128925_jaguar,_panther,_Panthera_onca,_Felis_onca', 'n02129165_lion,_king_of_beasts,_Panthera_leo', 'n02129604_tiger,_Panthera_tigris', 'n02130308_cheetah,_chetah,_Acinonyx_jubatus', 'n02132136_brown_bear,_bruin,_Ursus_arctos', 'n02133161_American_black_bear,_black_bear,_Ursus_americanus,_Euarctos_americanus', 'n02134084_ice_bear,_polar_bear,_Ursus_Maritimus,_Thalarctos_maritimus', 'n02134418_sloth_bear,_Melursus_ursinus,_Ursus_ursinus', 'n02137549_mongoose', 'n02138441_meerkat,_mierkat', 'n02165105_tiger_beetle', 'n02165456_ladybug,_ladybeetle,_lady_beetle,_ladybird,_ladybird_beetle', 'n02167151_ground_beetle,_carabid_beetle', 'n02168699_long-horned_beetle,_longicorn,_longicorn_beetle', 'n02169497_leaf_beetle,_chrysomelid', 'n02172182_dung_beetle', 'n02174001_rhinoceros_beetle', 'n02177972_weevil', 'n02190166_fly', 'n02206856_bee', 'n02219486_ant,_emmet,_pismire', 'n02226429_grasshopper,_hopper', 'n02229544_cricket', 'n02231487_walking_stick,_walkingstick,_stick_insect', 'n02233338_cockroach,_roach', 'n02236044_mantis,_mantid', 'n02256656_cicada,_cicala', 'n02259212_leafhopper', 'n02264363_lacewing,_lacewing_fly', \"n02268443_dragonfly,_darning_needle,_devil's_darning_needle,_sewing_needle,_snake_feeder,_snake_doctor,_mosquito_hawk,_skeeter_hawk\", 'n02268853_damselfly', 'n02276258_admiral', 'n02277742_ringlet,_ringlet_butterfly', 'n02279972_monarch,_monarch_butterfly,_milkweed_butterfly,_Danaus_plexippus', 'n02280649_cabbage_butterfly', 'n02281406_sulphur_butterfly,_sulfur_butterfly', 'n02281787_lycaenid,_lycaenid_butterfly', 'n02317335_starfish,_sea_star', 'n02319095_sea_urchin', 'n02321529_sea_cucumber,_holothurian', 'n02325366_wood_rabbit,_cottontail,_cottontail_rabbit', 'n02326432_hare', 'n02328150_Angora,_Angora_rabbit', 'n02342885_hamster', 'n02346627_porcupine,_hedgehog', 'n02356798_fox_squirrel,_eastern_fox_squirrel,_Sciurus_niger', 'n02361337_marmot', 'n02363005_beaver', 'n02364673_guinea_pig,_Cavia_cobaya', 'n02389026_sorrel', 'n02391049_zebra', 'n02395406_hog,_pig,_grunter,_squealer,_Sus_scrofa', 'n02396427_wild_boar,_boar,_Sus_scrofa', 'n02397096_warthog', 'n02398521_hippopotamus,_hippo,_river_horse,_Hippopotamus_amphibius', 'n02403003_ox', 'n02408429_water_buffalo,_water_ox,_Asiatic_buffalo,_Bubalus_bubalis', 'n02410509_bison', 'n02412080_ram,_tup', 'n02415577_bighorn,_bighorn_sheep,_cimarron,_Rocky_Mountain_bighorn,_Rocky_Mountain_sheep,_Ovis_canadensis', 'n02417914_ibex,_Capra_ibex', 'n02422106_hartebeest', 'n02422699_impala,_Aepyceros_melampus', 'n02423022_gazelle', 'n02437312_Arabian_camel,_dromedary,_Camelus_dromedarius', 'n02437616_llama', 'n02441942_weasel', 'n02442845_mink', 'n02443114_polecat,_fitch,_foulmart,_foumart,_Mustela_putorius', 'n02443484_black-footed_ferret,_ferret,_Mustela_nigripes', 'n02444819_otter', 'n02445715_skunk,_polecat,_wood_pussy', 'n02447366_badger', 'n02454379_armadillo', 'n02457408_three-toed_sloth,_ai,_Bradypus_tridactylus', 'n02480495_orangutan,_orang,_orangutang,_Pongo_pygmaeus', 'n02480855_gorilla,_Gorilla_gorilla', 'n02481823_chimpanzee,_chimp,_Pan_troglodytes', 'n02483362_gibbon,_Hylobates_lar', 'n02483708_siamang,_Hylobates_syndactylus,_Symphalangus_syndactylus', 'n02484975_guenon,_guenon_monkey', 'n02486261_patas,_hussar_monkey,_Erythrocebus_patas', 'n02486410_baboon', 'n02487347_macaque', 'n02488291_langur', 'n02488702_colobus,_colobus_monkey', 'n02489166_proboscis_monkey,_Nasalis_larvatus', 'n02490219_marmoset', 'n02492035_capuchin,_ringtail,_Cebus_capucinus', 'n02492660_howler_monkey,_howler', 'n02493509_titi,_titi_monkey', 'n02493793_spider_monkey,_Ateles_geoffroyi', 'n02494079_squirrel_monkey,_Saimiri_sciureus', 'n02497673_Madagascar_cat,_ring-tailed_lemur,_Lemur_catta', 'n02500267_indri,_indris,_Indri_indri,_Indri_brevicaudatus', 'n02504013_Indian_elephant,_Elephas_maximus', 'n02504458_African_elephant,_Loxodonta_africana', 'n02509815_lesser_panda,_red_panda,_panda,_bear_cat,_cat_bear,_Ailurus_fulgens', 'n02510455_giant_panda,_panda,_panda_bear,_coon_bear,_Ailuropoda_melanoleuca', 'n02514041_barracouta,_snoek', 'n02526121_eel', 'n02536864_coho,_cohoe,_coho_salmon,_blue_jack,_silver_salmon,_Oncorhynchus_kisutch', 'n02606052_rock_beauty,_Holocanthus_tricolor', 'n02607072_anemone_fish', 'n02640242_sturgeon', 'n02641379_gar,_garfish,_garpike,_billfish,_Lepisosteus_osseus', 'n02643566_lionfish', 'n02655020_puffer,_pufferfish,_blowfish,_globefish', 'n02666196_abacus', 'n02667093_abaya', \"n02669723_academic_gown,_academic_robe,_judge's_robe\", 'n02672831_accordion,_piano_accordion,_squeeze_box', 'n02676566_acoustic_guitar', 'n02687172_aircraft_carrier,_carrier,_flattop,_attack_aircraft_carrier', 'n02690373_airliner', 'n02692877_airship,_dirigible', 'n02699494_altar', 'n02701002_ambulance', 'n02704792_amphibian,_amphibious_vehicle', 'n02708093_analog_clock', 'n02727426_apiary,_bee_house', 'n02730930_apron', 'n02747177_ashcan,_trash_can,_garbage_can,_wastebin,_ash_bin,_ash-bin,_ashbin,_dustbin,_trash_barrel,_trash_bin', 'n02749479_assault_rifle,_assault_gun', 'n02769748_backpack,_back_pack,_knapsack,_packsack,_rucksack,_haversack', 'n02776631_bakery,_bakeshop,_bakehouse', 'n02777292_balance_beam,_beam', 'n02782093_balloon', 'n02783161_ballpoint,_ballpoint_pen,_ballpen,_Biro', 'n02786058_Band_Aid', 'n02787622_banjo', 'n02788148_bannister,_banister,_balustrade,_balusters,_handrail', 'n02790996_barbell', 'n02791124_barber_chair', 'n02791270_barbershop', 'n02793495_barn', 'n02794156_barometer', 'n02795169_barrel,_cask', 'n02797295_barrow,_garden_cart,_lawn_cart,_wheelbarrow', 'n02799071_baseball', 'n02802426_basketball', 'n02804414_bassinet', 'n02804610_bassoon', 'n02807133_bathing_cap,_swimming_cap', 'n02808304_bath_towel', 'n02808440_bathtub,_bathing_tub,_bath,_tub', 'n02814533_beach_wagon,_station_wagon,_wagon,_estate_car,_beach_waggon,_station_waggon,_waggon', 'n02814860_beacon,_lighthouse,_beacon_light,_pharos', 'n02815834_beaker', 'n02817516_bearskin,_busby,_shako', 'n02823428_beer_bottle', 'n02823750_beer_glass', 'n02825657_bell_cote,_bell_cot', 'n02834397_bib', 'n02835271_bicycle-built-for-two,_tandem_bicycle,_tandem', 'n02837789_bikini,_two-piece', 'n02840245_binder,_ring-binder', 'n02841315_binoculars,_field_glasses,_opera_glasses', 'n02843684_birdhouse', 'n02859443_boathouse', 'n02860847_bobsled,_bobsleigh,_bob', 'n02865351_bolo_tie,_bolo,_bola_tie,_bola', 'n02869837_bonnet,_poke_bonnet', 'n02870880_bookcase', 'n02871525_bookshop,_bookstore,_bookstall', 'n02877765_bottlecap', 'n02879718_bow', 'n02883205_bow_tie,_bow-tie,_bowtie', 'n02892201_brass,_memorial_tablet,_plaque', 'n02892767_brassiere,_bra,_bandeau', 'n02894605_breakwater,_groin,_groyne,_mole,_bulwark,_seawall,_jetty', 'n02895154_breastplate,_aegis,_egis', 'n02906734_broom', 'n02909870_bucket,_pail', 'n02910353_buckle', 'n02916936_bulletproof_vest', 'n02917067_bullet_train,_bullet', 'n02927161_butcher_shop,_meat_market', 'n02930766_cab,_hack,_taxi,_taxicab', 'n02939185_caldron,_cauldron', 'n02948072_candle,_taper,_wax_light', 'n02950826_cannon', 'n02951358_canoe', 'n02951585_can_opener,_tin_opener', 'n02963159_cardigan', 'n02965783_car_mirror', 'n02966193_carousel,_carrousel,_merry-go-round,_roundabout,_whirligig', \"n02966687_carpenter's_kit,_tool_kit\", 'n02971356_carton', 'n02974003_car_wheel', 'n02977058_cash_machine,_cash_dispenser,_automated_teller_machine,_automatic_teller_machine,_automated_teller,_automatic_teller,_ATM', 'n02978881_cassette', 'n02979186_cassette_player', 'n02980441_castle', 'n02981792_catamaran', 'n02988304_CD_player', 'n02992211_cello,_violoncello', 'n02992529_cellular_telephone,_cellular_phone,_cellphone,_cell,_mobile_phone', 'n02999410_chain', 'n03000134_chainlink_fence', 'n03000247_chain_mail,_ring_mail,_mail,_chain_armor,_chain_armour,_ring_armor,_ring_armour', 'n03000684_chain_saw,_chainsaw', 'n03014705_chest', 'n03016953_chiffonier,_commode', 'n03017168_chime,_bell,_gong', 'n03018349_china_cabinet,_china_closet', 'n03026506_Christmas_stocking', 'n03028079_church,_church_building', 'n03032252_cinema,_movie_theater,_movie_theatre,_movie_house,_picture_palace', 'n03041632_cleaver,_meat_cleaver,_chopper', 'n03042490_cliff_dwelling', 'n03045698_cloak', 'n03047690_clog,_geta,_patten,_sabot', 'n03062245_cocktail_shaker', 'n03063599_coffee_mug', 'n03063689_coffeepot', 'n03065424_coil,_spiral,_volute,_whorl,_helix', 'n03075370_combination_lock', 'n03085013_computer_keyboard,_keypad', 'n03089624_confectionery,_confectionary,_candy_store', 'n03095699_container_ship,_containership,_container_vessel', 'n03100240_convertible', 'n03109150_corkscrew,_bottle_screw', 'n03110669_cornet,_horn,_trumpet,_trump', 'n03124043_cowboy_boot', 'n03124170_cowboy_hat,_ten-gallon_hat', 'n03125729_cradle', 'n03126707_crane', 'n03127747_crash_helmet', 'n03127925_crate', 'n03131574_crib,_cot', 'n03133878_Crock_Pot', 'n03134739_croquet_ball', 'n03141823_crutch', 'n03146219_cuirass', 'n03160309_dam,_dike,_dyke', 'n03179701_desk', 'n03180011_desktop_computer', 'n03187595_dial_telephone,_dial_phone', 'n03188531_diaper,_nappy,_napkin', 'n03196217_digital_clock', 'n03197337_digital_watch', 'n03201208_dining_table,_board', 'n03207743_dishrag,_dishcloth', 'n03207941_dishwasher,_dish_washer,_dishwashing_machine', 'n03208938_disk_brake,_disc_brake', 'n03216828_dock,_dockage,_docking_facility', 'n03218198_dogsled,_dog_sled,_dog_sleigh', 'n03220513_dome', 'n03223299_doormat,_welcome_mat', 'n03240683_drilling_platform,_offshore_rig', 'n03249569_drum,_membranophone,_tympan', 'n03250847_drumstick', 'n03255030_dumbbell', 'n03259280_Dutch_oven', 'n03271574_electric_fan,_blower', 'n03272010_electric_guitar', 'n03272562_electric_locomotive', 'n03290653_entertainment_center', 'n03291819_envelope', 'n03297495_espresso_maker', 'n03314780_face_powder', 'n03325584_feather_boa,_boa', 'n03337140_file,_file_cabinet,_filing_cabinet', 'n03344393_fireboat', 'n03345487_fire_engine,_fire_truck', 'n03347037_fire_screen,_fireguard', 'n03355925_flagpole,_flagstaff', 'n03372029_flute,_transverse_flute', 'n03376595_folding_chair', 'n03379051_football_helmet', 'n03384352_forklift', 'n03388043_fountain', 'n03388183_fountain_pen', 'n03388549_four-poster', 'n03393912_freight_car', 'n03394916_French_horn,_horn', 'n03400231_frying_pan,_frypan,_skillet', 'n03404251_fur_coat', 'n03417042_garbage_truck,_dustcart', 'n03424325_gasmask,_respirator,_gas_helmet', 'n03425413_gas_pump,_gasoline_pump,_petrol_pump,_island_dispenser', 'n03443371_goblet', 'n03444034_go-kart', 'n03445777_golf_ball', 'n03445924_golfcart,_golf_cart', 'n03447447_gondola', 'n03447721_gong,_tam-tam', 'n03450230_gown', 'n03452741_grand_piano,_grand', 'n03457902_greenhouse,_nursery,_glasshouse', 'n03459775_grille,_radiator_grille', 'n03461385_grocery_store,_grocery,_food_market,_market', 'n03467068_guillotine', 'n03476684_hair_slide', 'n03476991_hair_spray', 'n03478589_half_track', 'n03481172_hammer', 'n03482405_hamper', 'n03483316_hand_blower,_blow_dryer,_blow_drier,_hair_dryer,_hair_drier', 'n03485407_hand-held_computer,_hand-held_microcomputer', 'n03485794_handkerchief,_hankie,_hanky,_hankey', 'n03492542_hard_disc,_hard_disk,_fixed_disk', 'n03494278_harmonica,_mouth_organ,_harp,_mouth_harp', 'n03495258_harp', 'n03496892_harvester,_reaper', 'n03498962_hatchet', 'n03527444_holster', 'n03529860_home_theater,_home_theatre', 'n03530642_honeycomb', 'n03532672_hook,_claw', 'n03534580_hoopskirt,_crinoline', 'n03535780_horizontal_bar,_high_bar', 'n03538406_horse_cart,_horse-cart', 'n03544143_hourglass', 'n03584254_iPod', 'n03584829_iron,_smoothing_iron', \"n03590841_jack-o'-lantern\", 'n03594734_jean,_blue_jean,_denim', 'n03594945_jeep,_landrover', 'n03595614_jersey,_T-shirt,_tee_shirt', 'n03598930_jigsaw_puzzle', 'n03599486_jinrikisha,_ricksha,_rickshaw', 'n03602883_joystick', 'n03617480_kimono', 'n03623198_knee_pad', 'n03627232_knot', 'n03630383_lab_coat,_laboratory_coat', 'n03633091_ladle', 'n03637318_lampshade,_lamp_shade', 'n03642806_laptop,_laptop_computer', 'n03649909_lawn_mower,_mower', 'n03657121_lens_cap,_lens_cover', 'n03658185_letter_opener,_paper_knife,_paperknife', 'n03661043_library', 'n03662601_lifeboat', 'n03666591_lighter,_light,_igniter,_ignitor', 'n03670208_limousine,_limo', 'n03673027_liner,_ocean_liner', 'n03676483_lipstick,_lip_rouge', 'n03680355_Loafer', 'n03690938_lotion', 'n03691459_loudspeaker,_speaker,_speaker_unit,_loudspeaker_system,_speaker_system', \"n03692522_loupe,_jeweler's_loupe\", 'n03697007_lumbermill,_sawmill', 'n03706229_magnetic_compass', 'n03709823_mailbag,_postbag', 'n03710193_mailbox,_letter_box', 'n03710637_maillot', 'n03710721_maillot,_tank_suit', 'n03717622_manhole_cover', 'n03720891_maraca', 'n03721384_marimba,_xylophone', 'n03724870_mask', 'n03729826_matchstick', 'n03733131_maypole', 'n03733281_maze,_labyrinth', 'n03733805_measuring_cup', 'n03742115_medicine_chest,_medicine_cabinet', 'n03743016_megalith,_megalithic_structure', 'n03759954_microphone,_mike', 'n03761084_microwave,_microwave_oven', 'n03763968_military_uniform', 'n03764736_milk_can', 'n03769881_minibus', 'n03770439_miniskirt,_mini', 'n03770679_minivan', 'n03773504_missile', 'n03775071_mitten', 'n03775546_mixing_bowl', 'n03776460_mobile_home,_manufactured_home', 'n03777568_Model_T', 'n03777754_modem', 'n03781244_monastery', 'n03782006_monitor', 'n03785016_moped', 'n03786901_mortar', 'n03787032_mortarboard', 'n03788195_mosque', 'n03788365_mosquito_net', 'n03791053_motor_scooter,_scooter', 'n03792782_mountain_bike,_all-terrain_bike,_off-roader', 'n03792972_mountain_tent', 'n03793489_mouse,_computer_mouse', 'n03794056_mousetrap', 'n03796401_moving_van', 'n03803284_muzzle', 'n03804744_nail', 'n03814639_neck_brace', 'n03814906_necklace', 'n03825788_nipple', 'n03832673_notebook,_notebook_computer', 'n03837869_obelisk', 'n03838899_oboe,_hautboy,_hautbois', 'n03840681_ocarina,_sweet_potato', 'n03841143_odometer,_hodometer,_mileometer,_milometer', 'n03843555_oil_filter', 'n03854065_organ,_pipe_organ', 'n03857828_oscilloscope,_scope,_cathode-ray_oscilloscope,_CRO', 'n03866082_overskirt', 'n03868242_oxcart', 'n03868863_oxygen_mask', 'n03871628_packet', 'n03873416_paddle,_boat_paddle', 'n03874293_paddlewheel,_paddle_wheel', 'n03874599_padlock', 'n03876231_paintbrush', \"n03877472_pajama,_pyjama,_pj's,_jammies\", 'n03877845_palace', 'n03884397_panpipe,_pandean_pipe,_syrinx', 'n03887697_paper_towel', 'n03888257_parachute,_chute', 'n03888605_parallel_bars,_bars', 'n03891251_park_bench', 'n03891332_parking_meter', 'n03895866_passenger_car,_coach,_carriage', 'n03899768_patio,_terrace', 'n03902125_pay-phone,_pay-station', 'n03903868_pedestal,_plinth,_footstall', 'n03908618_pencil_box,_pencil_case', 'n03908714_pencil_sharpener', 'n03916031_perfume,_essence', 'n03920288_Petri_dish', 'n03924679_photocopier', 'n03929660_pick,_plectrum,_plectron', 'n03929855_pickelhaube', 'n03930313_picket_fence,_paling', 'n03930630_pickup,_pickup_truck', 'n03933933_pier', 'n03935335_piggy_bank,_penny_bank', 'n03937543_pill_bottle', 'n03938244_pillow', 'n03942813_ping-pong_ball', 'n03944341_pinwheel', 'n03947888_pirate,_pirate_ship', 'n03950228_pitcher,_ewer', \"n03954731_plane,_carpenter's_plane,_woodworking_plane\", 'n03956157_planetarium', 'n03958227_plastic_bag', 'n03961711_plate_rack', 'n03967562_plow,_plough', \"n03970156_plunger,_plumber's_helper\", 'n03976467_Polaroid_camera,_Polaroid_Land_camera', 'n03976657_pole', 'n03977966_police_van,_police_wagon,_paddy_wagon,_patrol_wagon,_wagon,_black_Maria', 'n03980874_poncho', 'n03982430_pool_table,_billiard_table,_snooker_table', 'n03983396_pop_bottle,_soda_bottle', 'n03991062_pot,_flowerpot', \"n03992509_potter's_wheel\", 'n03995372_power_drill', 'n03998194_prayer_rug,_prayer_mat', 'n04004767_printer', 'n04005630_prison,_prison_house', 'n04008634_projectile,_missile', 'n04009552_projector', 'n04019541_puck,_hockey_puck', 'n04023962_punching_bag,_punch_bag,_punching_ball,_punchball', 'n04026417_purse', 'n04033901_quill,_quill_pen', 'n04033995_quilt,_comforter,_comfort,_puff', 'n04037443_racer,_race_car,_racing_car', 'n04039381_racket,_racquet', 'n04040759_radiator', 'n04041544_radio,_wireless', 'n04044716_radio_telescope,_radio_reflector', 'n04049303_rain_barrel', 'n04065272_recreational_vehicle,_RV,_R.V.', 'n04067472_reel', 'n04069434_reflex_camera', 'n04070727_refrigerator,_icebox', 'n04074963_remote_control,_remote', 'n04081281_restaurant,_eating_house,_eating_place,_eatery', 'n04086273_revolver,_six-gun,_six-shooter', 'n04090263_rifle', 'n04099969_rocking_chair,_rocker', 'n04111531_rotisserie', 'n04116512_rubber_eraser,_rubber,_pencil_eraser', 'n04118538_rugby_ball', 'n04118776_rule,_ruler', 'n04120489_running_shoe', 'n04125021_safe', 'n04127249_safety_pin', 'n04131690_saltshaker,_salt_shaker', 'n04133789_sandal', 'n04136333_sarong', 'n04141076_sax,_saxophone', 'n04141327_scabbard', 'n04141975_scale,_weighing_machine', 'n04146614_school_bus', 'n04147183_schooner', 'n04149813_scoreboard', 'n04152593_screen,_CRT_screen', 'n04153751_screw', 'n04154565_screwdriver', 'n04162706_seat_belt,_seatbelt', 'n04179913_sewing_machine', 'n04192698_shield,_buckler', 'n04200800_shoe_shop,_shoe-shop,_shoe_store', 'n04201297_shoji', 'n04204238_shopping_basket', 'n04204347_shopping_cart', 'n04208210_shovel', 'n04209133_shower_cap', 'n04209239_shower_curtain', 'n04228054_ski', 'n04229816_ski_mask', 'n04235860_sleeping_bag', 'n04238763_slide_rule,_slipstick', 'n04239074_sliding_door', 'n04243546_slot,_one-armed_bandit', 'n04251144_snorkel', 'n04252077_snowmobile', 'n04252225_snowplow,_snowplough', 'n04254120_soap_dispenser', 'n04254680_soccer_ball', 'n04254777_sock', 'n04258138_solar_dish,_solar_collector,_solar_furnace', 'n04259630_sombrero', 'n04263257_soup_bowl', 'n04264628_space_bar', 'n04265275_space_heater', 'n04266014_space_shuttle', 'n04270147_spatula', 'n04273569_speedboat', \"n04275548_spider_web,_spider's_web\", 'n04277352_spindle', 'n04285008_sports_car,_sport_car', 'n04286575_spotlight,_spot', 'n04296562_stage', 'n04310018_steam_locomotive', 'n04311004_steel_arch_bridge', 'n04311174_steel_drum', 'n04317175_stethoscope', 'n04325704_stole', 'n04326547_stone_wall', 'n04328186_stopwatch,_stop_watch', 'n04330267_stove', 'n04332243_strainer', 'n04335435_streetcar,_tram,_tramcar,_trolley,_trolley_car', 'n04336792_stretcher', 'n04344873_studio_couch,_day_bed', 'n04346328_stupa,_tope', 'n04347754_submarine,_pigboat,_sub,_U-boat', 'n04350905_suit,_suit_of_clothes', 'n04355338_sundial', 'n04355933_sunglass', 'n04356056_sunglasses,_dark_glasses,_shades', 'n04357314_sunscreen,_sunblock,_sun_blocker', 'n04366367_suspension_bridge', 'n04367480_swab,_swob,_mop', 'n04370456_sweatshirt', 'n04371430_swimming_trunks,_bathing_trunks', 'n04371774_swing', 'n04372370_switch,_electric_switch,_electrical_switch', 'n04376876_syringe', 'n04380533_table_lamp', 'n04389033_tank,_army_tank,_armored_combat_vehicle,_armoured_combat_vehicle', 'n04392985_tape_player', 'n04398044_teapot', 'n04399382_teddy,_teddy_bear', 'n04404412_television,_television_system', 'n04409515_tennis_ball', 'n04417672_thatch,_thatched_roof', 'n04418357_theater_curtain,_theatre_curtain', 'n04423845_thimble', 'n04428191_thresher,_thrasher,_threshing_machine', 'n04429376_throne', 'n04435653_tile_roof', 'n04442312_toaster', 'n04443257_tobacco_shop,_tobacconist_shop,_tobacconist', 'n04447861_toilet_seat', 'n04456115_torch', 'n04458633_totem_pole', 'n04461696_tow_truck,_tow_car,_wrecker', 'n04462240_toyshop', 'n04465501_tractor', 'n04467665_trailer_truck,_tractor_trailer,_trucking_rig,_rig,_articulated_lorry,_semi', 'n04476259_tray', 'n04479046_trench_coat', 'n04482393_tricycle,_trike,_velocipede', 'n04483307_trimaran', 'n04485082_tripod', 'n04486054_triumphal_arch', 'n04487081_trolleybus,_trolley_coach,_trackless_trolley', 'n04487394_trombone', 'n04493381_tub,_vat', 'n04501370_turnstile', 'n04505470_typewriter_keyboard', 'n04507155_umbrella', 'n04509417_unicycle,_monocycle', 'n04515003_upright,_upright_piano', 'n04517823_vacuum,_vacuum_cleaner', 'n04522168_vase', 'n04523525_vault', 'n04525038_velvet', 'n04525305_vending_machine', 'n04532106_vestment', 'n04532670_viaduct', 'n04536866_violin,_fiddle', 'n04540053_volleyball', 'n04542943_waffle_iron', 'n04548280_wall_clock', 'n04548362_wallet,_billfold,_notecase,_pocketbook', 'n04550184_wardrobe,_closet,_press', 'n04552348_warplane,_military_plane', 'n04553703_washbasin,_handbasin,_washbowl,_lavabo,_wash-hand_basin', 'n04554684_washer,_automatic_washer,_washing_machine', 'n04557648_water_bottle', 'n04560804_water_jug', 'n04562935_water_tower', 'n04579145_whiskey_jug', 'n04579432_whistle', 'n04584207_wig', 'n04589890_window_screen', 'n04590129_window_shade', 'n04591157_Windsor_tie', 'n04591713_wine_bottle', 'n04592741_wing', 'n04596742_wok', 'n04597913_wooden_spoon', 'n04599235_wool,_woolen,_woollen', 'n04604644_worm_fence,_snake_fence,_snake-rail_fence,_Virginia_fence', 'n04606251_wreck', 'n04612504_yawl', 'n04613696_yurt', 'n06359193_web_site,_website,_internet_site,_site', 'n06596364_comic_book', 'n06785654_crossword_puzzle,_crossword', 'n06794110_street_sign', 'n06874185_traffic_light,_traffic_signal,_stoplight', 'n07248320_book_jacket,_dust_cover,_dust_jacket,_dust_wrapper', 'n07565083_menu', 'n07579787_plate', 'n07583066_guacamole', 'n07584110_consomme', 'n07590611_hot_pot,_hotpot', 'n07613480_trifle', 'n07614500_ice_cream,_icecream', 'n07615774_ice_lolly,_lolly,_lollipop,_popsicle', 'n07684084_French_loaf', 'n07693725_bagel,_beigel', 'n07695742_pretzel', 'n07697313_cheeseburger', 'n07697537_hotdog,_hot_dog,_red_hot', 'n07711569_mashed_potato', 'n07714571_head_cabbage', 'n07714990_broccoli', 'n07715103_cauliflower', 'n07716358_zucchini,_courgette', 'n07716906_spaghetti_squash', 'n07717410_acorn_squash', 'n07717556_butternut_squash', 'n07718472_cucumber,_cuke', 'n07718747_artichoke,_globe_artichoke', 'n07720875_bell_pepper', 'n07730033_cardoon', 'n07734744_mushroom', 'n07742313_Granny_Smith', 'n07745940_strawberry', 'n07747607_orange', 'n07749582_lemon', 'n07753113_fig', 'n07753275_pineapple,_ananas', 'n07753592_banana', 'n07754684_jackfruit,_jak,_jack', 'n07760859_custard_apple', 'n07768694_pomegranate', 'n07802026_hay', 'n07831146_carbonara', 'n07836838_chocolate_sauce,_chocolate_syrup', 'n07860988_dough', 'n07871810_meat_loaf,_meatloaf', 'n07873807_pizza,_pizza_pie', 'n07875152_potpie', 'n07880968_burrito', 'n07892512_red_wine', 'n07920052_espresso', 'n07930864_cup', 'n07932039_eggnog', 'n09193705_alp', 'n09229709_bubble', 'n09246464_cliff,_drop,_drop-off', 'n09256479_coral_reef', 'n09288635_geyser', 'n09332890_lakeside,_lakeshore', 'n09399592_promontory,_headland,_head,_foreland', 'n09421951_sandbar,_sand_bar', 'n09428293_seashore,_coast,_seacoast,_sea-coast', 'n09468604_valley,_vale', 'n09472597_volcano', 'n09835506_ballplayer,_baseball_player', 'n10148035_groom,_bridegroom', 'n10565667_scuba_diver', 'n11879895_rapeseed', 'n11939491_daisy', \"n12057211_yellow_lady's_slipper,_yellow_lady-slipper,_Cypripedium_calceolus,_Cypripedium_parviflorum\", 'n12144580_corn', 'n12267677_acorn', 'n12620546_hip,_rose_hip,_rosehip', 'n12768682_buckeye,_horse_chestnut,_conker', 'n12985857_coral_fungus', 'n12998815_agaric', 'n13037406_gyromitra', 'n13040303_stinkhorn,_carrion_fungus', 'n13044778_earthstar', 'n13052670_hen-of-the-woods,_hen_of_the_woods,_Polyporus_frondosus,_Grifola_frondosa', 'n13054560_bolete', 'n13133613_ear,_spike,_capitulum', 'n15075141_toilet_tissue,_toilet_paper,_bathroom_tissue']\n"
     ]
    }
   ],
   "source": [
    "labels =\"test_model.labels\"\n",
    "if labels:\n",
    "    with open(labels, 'r') as f:\n",
    "        labels_map = [x.split(sep=' ', maxsplit=1)[-1].strip() for x in f]\n",
    "else:\n",
    "    labels_map = None\n",
    "\n",
    "print (labels_map)"
   ]
  },
  {
   "cell_type": "code",
   "execution_count": null,
   "metadata": {},
   "outputs": [],
   "source": []
  },
  {
   "cell_type": "code",
   "execution_count": 11,
   "metadata": {},
   "outputs": [
    {
     "name": "stdout",
     "output_type": "stream",
     "text": [
      "Top 10 results:\n",
      "===============\n",
      "\n",
      "n02106662_German_shepherd,_German_shepherd_dog,_German_police_dog,_alsatian \t\t tensor(15.4252, grad_fn=<SelectBackward>) tensor(235)\n",
      "n02111129_Leonberg \t\t tensor(11.2401, grad_fn=<SelectBackward>) tensor(255)\n",
      "n02105162_malinois \t\t tensor(11.0313, grad_fn=<SelectBackward>) tensor(225)\n",
      "n02091467_Norwegian_elkhound,_elkhound \t\t tensor(9.7304, grad_fn=<SelectBackward>) tensor(174)\n",
      "n02090721_Irish_wolfhound \t\t tensor(8.9736, grad_fn=<SelectBackward>) tensor(170)\n",
      "n02105056_groenendael \t\t tensor(8.8621, grad_fn=<SelectBackward>) tensor(224)\n",
      "n02116738_African_hunting_dog,_hyena_dog,_Cape_hunting_dog,_Lycaon_pictus \t\t tensor(8.5262, grad_fn=<SelectBackward>) tensor(275)\n",
      "n02088094_Afghan_hound,_Afghan \t\t tensor(8.4578, grad_fn=<SelectBackward>) tensor(160)\n",
      "n02090622_borzoi,_Russian_wolfhound \t\t tensor(7.9833, grad_fn=<SelectBackward>) tensor(169)\n",
      "n02105412_kelpie \t\t tensor(7.8347, grad_fn=<SelectBackward>) tensor(227)\n"
     ]
    }
   ],
   "source": [
    "print(\"Top {} results:\\n===============\\n\".format(number_top))\n",
    "for i, probs in enumerate(res):\n",
    "    if (i<number_top):\n",
    "        print( labels_map[indices[i]], \"\\t\\t\", values[i], indices[i])"
   ]
  },
  {
   "cell_type": "markdown",
   "metadata": {},
   "source": [
    "# Convert PyTorch to ONNX"
   ]
  },
  {
   "cell_type": "code",
   "execution_count": 12,
   "metadata": {},
   "outputs": [
    {
     "name": "stdout",
     "output_type": "stream",
     "text": [
      "Collecting onnxruntime\n",
      "  Using cached https://files.pythonhosted.org/packages/e6/97/39c630134268a29a7c26f5f1c8fd2f7ff089ccee567cb076087ddf1cb6e0/onnxruntime-0.1.4-cp35-cp35m-manylinux1_x86_64.whl\n",
      "Installing collected packages: onnxruntime\n",
      "Successfully installed onnxruntime-0.1.2\n",
      "\u001b[33mYou are using pip version 8.1.1, however version 19.0.1 is available.\n",
      "You should consider upgrading via the 'pip install --upgrade pip' command.\u001b[0m\n",
      "Collecting onnxruntime-gpu\n",
      "  Using cached https://files.pythonhosted.org/packages/17/cb/0def5a44db45c6d38d95387f20057905ce2dd4fad35c0d43ee4b1cebbb19/onnxruntime_gpu-0.1.3-cp35-cp35m-manylinux1_x86_64.whl\n",
      "Installing collected packages: onnxruntime-gpu\n",
      "Successfully installed onnxruntime-gpu-0.1.3\n",
      "\u001b[33mYou are using pip version 8.1.1, however version 19.0.1 is available.\n",
      "You should consider upgrading via the 'pip install --upgrade pip' command.\u001b[0m\n"
     ]
    }
   ],
   "source": [
    "!pip3 install onnxruntime\n",
    "!pip3 install onnxruntime-gpu"
   ]
  },
  {
   "cell_type": "code",
   "execution_count": 13,
   "metadata": {},
   "outputs": [
    {
     "data": {
      "text/plain": [
       "tensor([[ 8.9698e-01, -3.0496e+00, -2.7042e+00, -7.4797e-01, -3.5622e+00,\n",
       "         -1.7981e+00, -4.8486e+00,  1.0940e-01,  8.6848e-01,  5.3563e-02,\n",
       "         -1.7047e+00, -3.4052e+00, -4.5000e+00, -3.7265e+00, -1.7852e+00,\n",
       "         -2.2921e+00, -7.1484e-01, -1.4667e-01, -1.3266e+00, -4.1419e+00,\n",
       "         -2.5389e+00, -7.5094e-01, -3.6083e+00,  1.3095e+00, -2.0261e+00,\n",
       "          1.2687e+00, -1.3761e+00, -1.7112e+00,  6.9341e-01, -7.8196e-01,\n",
       "         -3.0654e+00, -2.9808e+00, -1.4203e+00, -1.3106e+00,  3.2277e-02,\n",
       "         -7.9055e-01,  1.7591e-01, -6.6472e-01, -1.2663e+00, -2.1434e+00,\n",
       "         -1.4755e+00, -2.3319e+00, -2.3057e+00, -4.7204e-01, -1.6553e-01,\n",
       "          9.6035e-01, -2.6927e+00, -1.9930e+00, -1.3999e+00,  4.2229e-02,\n",
       "          1.6009e+00,  1.2011e+00, -4.7398e-01, -2.5052e+00, -1.0870e+00,\n",
       "         -1.7356e+00, -3.8899e+00, -2.6196e+00, -2.6320e+00, -5.5144e-02,\n",
       "          2.0895e-01, -8.4870e-01,  7.3489e-01,  6.4995e-01, -1.0003e+00,\n",
       "         -1.5075e+00, -1.2006e+00, -3.3655e+00, -1.5844e+00, -3.6902e+00,\n",
       "         -4.6249e+00, -4.2413e-01, -3.0707e+00, -1.2352e+00, -2.9502e+00,\n",
       "         -3.3097e+00, -2.1056e+00, -3.5125e+00,  1.1357e+00, -2.5557e+00,\n",
       "          9.9847e-01, -4.3725e+00, -2.3322e+00,  9.7489e-01,  9.2350e-02,\n",
       "         -2.6944e+00, -9.5254e-01, -1.3288e+00, -1.9498e+00, -2.5390e+00,\n",
       "         -1.8219e+00, -8.7242e-01, -2.3849e+00, -1.8219e-01, -2.5906e-01,\n",
       "         -6.8295e-02, -2.6354e+00,  6.5982e-01,  1.5627e-01,  3.1904e+00,\n",
       "          2.5385e+00,  2.0609e+00, -1.7637e+00, -4.8428e-01,  4.7447e+00,\n",
       "         -2.1882e+00,  4.9777e-01, -3.4019e+00, -3.2807e+00, -2.9574e+00,\n",
       "         -3.7406e+00, -1.5514e+00, -2.2510e+00, -1.3370e+00, -3.1237e-01,\n",
       "         -1.6213e+00, -2.0139e+00, -4.7448e+00, -1.7331e+00, -3.1532e+00,\n",
       "         -2.3687e+00, -1.9405e+00, -1.3945e-01, -3.5357e+00, -3.0380e+00,\n",
       "         -4.3200e+00, -3.0256e+00, -1.2354e+00,  2.0821e-01, -4.7915e-01,\n",
       "         -6.5091e-01, -2.4172e+00, -3.3796e+00, -2.5528e+00, -1.1176e-01,\n",
       "         -1.3138e+00,  2.0920e+00, -5.7481e-01, -2.5135e+00, -1.2452e+00,\n",
       "         -4.7662e+00, -3.4896e+00, -2.0667e+00,  2.5995e-01, -1.0071e+00,\n",
       "          1.4826e+00,  8.5944e-01, -1.6849e-01, -1.5589e+00, -2.4143e+00,\n",
       "         -7.0441e-01,  1.7166e+00,  4.5685e-01, -1.4065e+00,  2.7232e+00,\n",
       "          7.8189e-01, -3.1202e-01,  2.6767e+00,  2.3783e+00,  5.0340e+00,\n",
       "          8.4578e+00,  1.7635e+00,  1.2773e+00,  5.8459e+00,  3.0126e+00,\n",
       "          3.6693e+00,  1.5818e+00,  4.7038e+00,  3.0252e+00,  7.9833e+00,\n",
       "          8.9736e+00,  1.8238e-01,  4.5605e+00,  4.4388e+00,  9.7304e+00,\n",
       "          6.7576e+00,  4.9746e+00,  6.0107e+00,  5.3811e-01,  2.8425e+00,\n",
       "          2.9224e+00,  2.0180e+00,  3.5423e+00,  2.1690e+00,  2.6701e+00,\n",
       "          3.9324e+00,  4.8066e+00,  1.3082e+00,  4.1448e+00,  2.1720e+00,\n",
       "          1.3088e+00,  3.6323e+00,  3.2465e+00,  5.0331e+00,  5.8309e+00,\n",
       "          7.9831e-01,  2.3056e+00,  4.2288e+00,  3.7131e+00,  3.8018e+00,\n",
       "          4.0881e+00,  1.8643e+00,  3.4914e+00, -1.4419e+00,  1.5362e+00,\n",
       "          6.9440e+00,  5.4526e+00,  4.5185e+00,  4.2903e+00,  4.6664e+00,\n",
       "          1.2307e+00,  1.9844e+00,  9.9449e-01,  2.4058e+00,  4.0090e+00,\n",
       "          2.1955e+00,  3.0028e+00,  3.6097e-01,  2.0276e+00,  9.3682e-01,\n",
       "          5.2101e+00,  2.7778e+00,  6.2153e+00,  3.7246e+00,  8.8621e+00,\n",
       "          1.1031e+01,  6.2247e+00,  7.8347e+00,  2.7766e+00,  3.8317e+00,\n",
       "          2.7172e+00,  7.1015e+00,  6.6779e+00,  4.1103e+00,  5.0666e+00,\n",
       "          1.5425e+01,  4.7531e+00, -1.1647e+00,  3.4615e+00,  4.2969e+00,\n",
       "          5.9608e+00,  3.8365e+00,  7.9905e-01,  3.7846e+00,  7.6964e+00,\n",
       "         -1.1676e+00,  4.6433e+00,  6.5248e+00,  4.3509e+00,  6.8645e+00,\n",
       "          3.7188e+00,  9.9871e-01,  2.5352e+00,  2.5828e+00,  1.7699e+00,\n",
       "          1.1240e+01,  6.4813e+00,  4.7109e+00,  6.2657e-01,  9.9988e-01,\n",
       "          1.9509e+00,  6.8943e+00,  3.6604e+00,  5.4458e+00,  7.2212e+00,\n",
       "         -1.9501e-01,  1.7839e+00,  4.2993e+00,  4.5285e+00,  3.5703e+00,\n",
       "          2.3172e+00,  5.7059e+00,  1.3806e+00,  4.5670e+00,  4.7568e+00,\n",
       "          8.5262e+00,  4.0912e+00,  1.1003e+00,  1.5171e+00, -1.8446e+00,\n",
       "          2.3247e+00,  7.0742e-01,  1.6570e+00, -6.7364e-01,  2.0611e+00,\n",
       "         -3.7470e-01, -6.4377e-01, -3.1045e+00, -1.4558e+00, -1.3295e+00,\n",
       "         -1.9330e+00,  1.6258e+00,  1.0531e+00,  4.1161e-01,  1.4288e+00,\n",
       "          6.0746e-01,  1.1656e-01,  1.2323e-01, -1.9321e+00,  1.2172e-01,\n",
       "         -2.6741e+00, -3.1164e+00, -2.7450e+00, -4.1230e+00, -2.4865e+00,\n",
       "         -3.2666e+00, -2.9286e+00, -2.6886e+00, -1.8975e+00,  1.6149e-01,\n",
       "         -1.6438e+00, -4.0896e+00, -3.8995e+00, -3.9685e+00, -2.2286e+00,\n",
       "         -4.0053e+00, -4.5041e+00, -3.5532e+00, -2.9248e+00, -2.2278e+00,\n",
       "         -3.8998e+00, -1.5254e+00, -2.0167e+00, -1.3907e+00, -4.0237e+00,\n",
       "         -1.7678e+00, -2.7567e+00, -6.8238e-01, -3.4193e+00, -3.3007e+00,\n",
       "          6.6455e-01,  2.2681e+00,  1.5003e+00, -2.5491e+00, -1.2958e+00,\n",
       "         -7.3455e-01, -1.4251e+00,  5.2701e-01, -1.5009e+00,  6.5057e-01,\n",
       "          3.9199e-01,  2.0264e+00,  1.1147e+00, -5.4390e-01, -1.2480e+00,\n",
       "          2.5443e+00,  3.5901e+00, -5.2470e-01,  1.1082e+00, -8.3270e-01,\n",
       "          2.0146e-01, -6.6328e-01, -8.3844e-02,  1.6166e+00,  4.9130e-01,\n",
       "          3.1578e+00,  7.6621e-01, -4.2909e-01,  2.3370e+00,  1.9615e+00,\n",
       "         -1.1295e+00,  1.8125e+00,  2.0373e+00, -4.3209e-01,  3.2018e-01,\n",
       "         -3.8830e-01,  9.9059e-02,  1.0274e+00,  2.6197e+00,  1.4869e+00,\n",
       "          7.8799e-02,  1.4141e+00,  1.6471e+00,  1.0129e+00, -1.7666e+00,\n",
       "         -2.6550e+00, -2.5991e+00, -1.5804e+00,  4.1435e-01, -1.3502e+00,\n",
       "         -8.1108e-01, -3.9486e-01, -2.2482e+00, -1.6375e-02,  2.2973e+00,\n",
       "          1.4380e+00, -2.1974e-01, -2.6012e+00, -4.7499e-01,  1.2217e+00,\n",
       "          6.3223e-01, -2.6437e+00, -2.5881e+00, -5.2012e+00,  1.3769e+00,\n",
       "         -8.0490e-01, -5.0295e+00, -5.1184e+00, -2.2007e+00, -5.6484e-01,\n",
       "          7.9168e-01,  4.8707e-02, -1.1670e+00,  2.5097e+00, -1.2010e-02,\n",
       "          1.5327e-01, -1.6858e+00, -2.3622e-01,  3.3437e+00,  1.6210e-01,\n",
       "         -1.2950e+00, -2.3130e+00,  4.4589e+00,  5.5482e-01, -1.1860e+00,\n",
       "         -2.1448e+00,  5.6376e-01,  3.4673e+00, -1.3804e+00, -1.1136e+00,\n",
       "         -8.7573e-01,  6.4709e-01, -2.8048e-01, -1.2768e+00, -2.7029e+00,\n",
       "         -1.6580e+00, -2.3398e+00,  2.3400e+00,  5.0557e+00,  4.9843e+00,\n",
       "          8.5347e-01, -1.4539e+00, -1.7641e+00, -4.4346e-01, -3.0578e-01,\n",
       "         -4.6782e-01, -1.4671e+00,  7.7088e-01, -6.8588e-01,  1.7396e+00,\n",
       "         -1.0899e+00, -1.0749e+00, -1.4269e+00, -2.4180e+00,  4.0652e-03,\n",
       "         -8.4945e-01, -1.4820e+00,  8.5199e-01, -8.1320e-01, -1.5432e-01,\n",
       "          1.7811e+00,  9.7242e-01, -6.1043e-01, -8.6603e-01, -3.7761e-01,\n",
       "         -1.7845e+00,  1.1165e+00, -2.4869e-01, -1.0273e+00, -1.0980e+00,\n",
       "         -1.5950e-01, -1.5290e-01, -2.5942e+00,  1.0812e+00, -1.4507e+00,\n",
       "          5.1665e+00, -7.1112e-01, -1.8302e+00,  2.5643e-01,  9.3201e-01,\n",
       "         -7.9385e-01,  8.7922e-01,  3.9149e+00, -1.1310e+00, -2.6923e+00,\n",
       "         -1.1907e+00, -9.2777e-01, -1.4521e+00, -1.6957e+00,  2.0435e+00,\n",
       "          4.4953e-01, -1.3570e+00,  8.1806e-01, -1.9259e-01,  1.0284e+00,\n",
       "         -1.8189e+00, -1.5365e+00,  4.9368e-01, -6.2104e-02, -1.9240e+00,\n",
       "          5.7286e-01,  1.4515e+00, -1.6820e+00, -1.4533e+00, -6.4921e-01,\n",
       "         -3.7621e+00, -2.7656e+00, -1.7550e+00, -3.6609e+00,  5.2453e-01,\n",
       "         -3.1731e+00,  3.7444e-01,  2.4815e+00, -7.5491e-01, -1.3083e+00,\n",
       "         -9.4775e-01, -1.0545e+00, -7.6718e-01, -2.8545e-01,  2.4730e-02,\n",
       "          3.2159e+00,  2.0156e-01, -1.0071e+00, -8.1581e-01,  2.4895e+00,\n",
       "          1.2967e+00, -2.2220e+00,  2.3771e-01,  2.6508e+00,  8.0292e-01,\n",
       "         -4.0608e+00, -5.5456e-01,  6.8001e+00,  1.3883e+00, -2.9169e-04,\n",
       "         -5.6128e-01, -9.8461e-01, -5.5963e-01, -2.3412e+00, -1.9302e+00,\n",
       "         -5.5131e-01, -4.0965e-01,  2.1735e-01, -2.0208e+00, -1.8883e+00,\n",
       "         -1.8472e+00,  1.4882e+00,  1.8682e+00, -2.0088e+00,  1.7988e+00,\n",
       "          1.8206e+00,  5.1806e-01, -9.5760e-01,  1.5131e+00,  9.8895e-01,\n",
       "         -2.8783e+00, -1.1884e+00, -2.1702e+00, -5.8254e-01, -2.5301e+00,\n",
       "         -1.6767e+00,  2.1239e-01,  1.0077e+00, -1.9197e+00,  2.0159e-01,\n",
       "         -2.5036e+00,  1.0574e-01, -3.8187e-01, -1.5572e+00,  2.9366e+00,\n",
       "          2.5150e+00, -4.4552e-01, -1.4428e+00, -1.5956e+00, -3.2307e+00,\n",
       "         -1.7433e+00, -1.2149e+00,  1.1917e+00,  4.5625e-01,  2.0381e-01,\n",
       "         -8.2017e-01, -1.4927e+00, -1.5066e+00,  2.5135e+00,  6.5192e+00,\n",
       "          2.2584e+00,  7.1555e-01,  3.3473e-01,  1.3125e+00, -3.5671e-02,\n",
       "         -7.4632e-01, -2.2037e+00, -8.5637e-01,  1.1639e+00,  3.9321e-02,\n",
       "         -4.1161e-01,  3.4467e+00, -8.0859e-01, -3.4375e-01, -1.4988e+00,\n",
       "          1.6602e+00, -1.4220e+00, -6.1274e+00, -5.3725e-01,  2.2248e-01,\n",
       "          2.9481e+00,  1.9215e-01, -1.3997e+00,  6.5807e-02, -1.4954e+00,\n",
       "          1.1913e+00, -3.3308e-03,  2.0716e-01,  5.7667e-01, -4.3287e-01,\n",
       "         -1.4352e+00, -1.5597e+00, -1.0026e+00,  1.5307e+00,  7.5966e-01,\n",
       "          6.1778e-01, -3.6300e+00, -6.1577e-01,  1.5534e+00, -2.3975e+00,\n",
       "          4.6401e-01, -4.4625e-01, -1.3625e+00, -7.2325e-01, -2.4547e+00,\n",
       "          9.0495e-02,  5.5849e+00, -2.5874e+00,  1.8536e-02, -4.6462e-01,\n",
       "          2.8184e-01, -1.3754e+00,  1.0951e+00, -2.7732e+00, -4.7121e-01,\n",
       "          1.8765e+00, -8.1959e-02, -4.8735e-01,  6.1442e-02, -7.8472e-01,\n",
       "         -3.2037e-01,  2.4697e-01, -3.4055e-01, -8.1137e-01,  1.9858e-01,\n",
       "         -3.3266e+00,  3.6330e+00,  5.6582e-01, -2.0401e-01,  3.5963e-01,\n",
       "          1.6029e+00,  2.0530e+00, -1.0139e+00, -2.4197e+00, -1.2503e-01,\n",
       "         -3.0759e+00, -1.9835e+00, -9.0963e-02,  8.9827e-01, -1.8468e+00,\n",
       "         -5.1461e-01, -1.3933e+00,  2.1111e+00, -2.0228e+00, -1.8083e+00,\n",
       "          4.6861e-02,  1.2705e+00, -1.7840e+00, -2.8822e+00, -3.0223e-01,\n",
       "          2.4837e+00,  2.9227e-02,  1.5604e+00, -2.3760e+00, -2.6407e+00,\n",
       "          2.3910e+00,  1.1055e+00,  1.9513e+00, -1.5242e-01, -4.3965e-01,\n",
       "         -1.4389e+00,  5.3928e+00, -1.4590e+00,  6.5636e-01, -1.9731e+00,\n",
       "          1.6154e+00, -1.3413e-01, -1.2405e-01, -1.2085e+00,  1.0344e+00,\n",
       "         -2.4083e+00, -1.9732e+00, -3.0631e+00, -2.6259e+00, -2.2274e-01,\n",
       "          7.8584e-01, -1.0747e+00, -7.1910e-01,  3.6117e+00, -2.0859e+00,\n",
       "         -1.8923e+00, -1.8492e+00, -3.8969e-01,  3.9495e-01,  2.5509e-01,\n",
       "          3.0952e-01,  4.0982e+00,  1.1774e+00,  2.3190e+00, -2.0491e+00,\n",
       "          1.5845e+00,  1.9039e-01,  2.8223e-01,  2.0711e+00, -3.6714e+00,\n",
       "         -3.6504e+00, -3.1177e-01, -1.9495e+00,  5.8203e-01,  4.9950e-01,\n",
       "          8.0683e-02, -3.3389e-01, -1.2102e+00,  1.7125e-01, -1.9274e+00,\n",
       "          1.3187e+00, -2.0766e+00,  4.8416e+00, -4.9456e-02, -1.3449e+00,\n",
       "         -1.9384e+00, -1.0608e+00, -4.5068e-01,  2.0472e+00, -3.1943e+00,\n",
       "          1.3824e+00,  1.4679e+00,  2.3930e-01,  1.6436e+00,  2.5163e-01,\n",
       "         -1.4386e+00,  4.0688e+00,  2.7417e-01, -2.3447e+00, -8.5980e-02,\n",
       "         -2.0408e+00, -1.0885e-01,  4.1743e-01, -9.0468e-01,  2.7336e+00,\n",
       "         -5.3701e+00, -1.3505e+00,  1.5415e+00, -1.5163e+00, -1.6816e+00,\n",
       "          2.3065e+00,  2.4306e+00,  1.2604e+00, -2.1788e+00, -2.6272e+00,\n",
       "         -7.7562e-01,  5.8149e-01,  2.8870e-01, -2.1931e-01, -1.3945e+00,\n",
       "         -3.0210e+00,  3.0638e+00, -5.9195e-01,  5.5530e-01,  3.2284e-01,\n",
       "          1.6840e+00, -5.1191e-01, -1.4531e+00,  5.1810e+00, -9.8927e-01,\n",
       "          2.1422e-01, -1.9420e+00, -1.3938e+00, -1.9689e+00, -2.7194e-01,\n",
       "         -7.1560e-01, -1.0033e+00, -5.5935e-01, -1.8219e+00,  4.3563e-01,\n",
       "         -1.9948e+00,  1.7838e+00,  7.5934e-01, -3.6191e+00, -1.2905e+00,\n",
       "         -2.0869e+00, -1.5107e+00,  2.3652e+00,  1.0837e+00, -8.4542e-01,\n",
       "         -5.4999e-01, -8.7320e-01, -7.8321e-01,  4.2769e-01, -3.2150e+00,\n",
       "         -3.3013e-01, -2.9303e-01,  3.1694e+00, -2.4067e+00, -1.3658e+00,\n",
       "         -2.2801e+00, -1.1104e+00,  7.2934e-01, -2.8464e+00, -3.0320e-01,\n",
       "          6.3326e+00, -6.0940e-01, -7.2825e-01,  7.6887e-01, -2.0251e+00,\n",
       "          1.6919e+00,  1.8353e+00,  5.1761e-02,  8.0664e-02,  3.1757e+00,\n",
       "         -2.2810e+00, -3.5133e+00,  5.0615e+00, -1.6651e+00, -8.8319e-01,\n",
       "         -1.8478e+00,  7.3271e-01,  1.4004e-01, -2.8790e+00,  1.6731e+00,\n",
       "          7.2456e-01,  6.1567e-01, -1.0177e+00, -1.9114e+00,  2.5300e-01,\n",
       "          3.8647e+00,  4.6327e-02, -2.7129e+00,  8.5280e-01,  1.3240e-01,\n",
       "         -1.8616e-01,  1.2399e+00,  1.3007e+00,  1.0186e+00, -2.1040e+00,\n",
       "         -3.5430e+00,  1.3514e+00, -4.4188e-01,  4.9715e-01, -8.5762e-01,\n",
       "         -3.3276e+00, -1.0782e+00,  1.9243e+00, -1.1971e+00, -2.8133e+00,\n",
       "         -2.1692e+00,  2.0493e+00,  5.1948e+00, -7.8703e-01, -3.0831e-01,\n",
       "         -9.7962e-01,  3.9720e+00, -1.1974e+00, -1.8916e+00, -3.5425e+00,\n",
       "          1.7008e+00,  7.9612e-01,  1.3730e+00, -5.2663e-01,  8.5212e-02,\n",
       "          1.2221e+00,  2.0846e+00, -2.4378e-01, -1.2829e+00,  1.0705e-01,\n",
       "          1.8092e+00,  1.5971e+00, -1.2454e-01, -9.5527e-01, -1.1466e+00,\n",
       "         -7.5315e-01,  9.9391e-01, -2.0302e-01,  3.6850e-02,  1.8877e+00,\n",
       "          3.3588e+00,  3.9230e-01,  1.0259e+00, -2.1803e+00, -1.2603e+00,\n",
       "         -4.2399e-01, -1.5920e+00, -2.1373e+00,  5.7976e-01, -2.2377e+00,\n",
       "          1.0295e+00, -6.9203e-01, -3.4791e-01, -1.7267e+00, -2.8176e+00,\n",
       "          2.7937e+00, -1.7919e+00, -2.0782e+00,  5.9902e-01,  3.0806e-01,\n",
       "         -1.8526e+00, -8.8963e-01,  4.9232e-01, -2.7528e+00, -1.2026e+00,\n",
       "         -3.1785e+00,  7.6780e-01, -2.7158e-01,  2.5988e+00, -7.6135e-01,\n",
       "         -6.6177e-01,  8.0689e-02,  2.6816e+00, -2.1796e+00, -1.3297e+00,\n",
       "         -4.1183e-01,  1.4200e+00, -1.3944e-01, -2.3939e+00, -4.5204e-01,\n",
       "         -1.2989e+00,  2.3347e-01, -2.7736e+00, -4.0309e-03, -1.6898e+00,\n",
       "         -7.7178e-01, -1.8466e-01, -2.0606e+00, -2.6533e+00,  3.3121e+00,\n",
       "         -9.4540e-02, -2.9879e+00, -1.9593e+00, -3.0033e+00, -9.6115e-01,\n",
       "         -2.6797e+00,  2.7520e-01, -1.8347e+00, -1.8035e+00,  7.0619e-01,\n",
       "          2.0591e-01, -1.0748e-01, -2.1685e+00,  2.3806e+00, -6.1262e-01,\n",
       "          5.0173e-01,  8.3784e-01, -4.5892e-01, -1.4495e+00, -5.1315e-01,\n",
       "         -1.4639e+00, -2.1114e-01, -2.7784e+00,  1.3974e-01, -2.7944e-01,\n",
       "         -2.7369e+00, -4.3814e-01, -1.2334e+00, -1.1248e+00, -1.3639e+00,\n",
       "         -2.2320e+00, -3.3240e+00, -1.3178e+00, -3.3666e+00, -1.3792e+00,\n",
       "         -2.6583e+00, -4.6609e-01, -2.4063e+00, -1.8358e+00, -2.0039e-01,\n",
       "         -2.7630e-01,  5.7877e-01,  3.7326e-01, -3.0439e+00, -2.3478e+00,\n",
       "          2.9624e+00, -5.2993e-01,  1.4197e+00,  6.4250e-01,  5.7753e-01,\n",
       "         -1.8156e+00,  2.6315e+00, -1.1042e-01, -2.7577e+00,  8.3108e-03,\n",
       "         -8.6851e-01, -2.5068e+00,  1.7833e+00, -2.1639e+00,  7.3132e-01,\n",
       "         -1.7480e+00, -2.7744e+00, -7.0386e-01, -1.9138e+00,  1.2292e-01,\n",
       "          7.9905e-01,  1.0614e+00, -2.7650e+00,  1.8594e+00, -3.0398e+00]],\n",
       "       grad_fn=<AddmmBackward>)"
      ]
     },
     "execution_count": 13,
     "metadata": {},
     "output_type": "execute_result"
    }
   ],
   "source": [
    "torch.onnx._export(net, x, 'test_model.onnx', export_params=True)"
   ]
  },
  {
   "cell_type": "code",
   "execution_count": 14,
   "metadata": {},
   "outputs": [
    {
     "name": "stdout",
     "output_type": "stream",
     "text": [
      "-rw-rw-r-- 1 ngeorgis ngeorgis 103242180 Jan 26 13:17 test_model.onnx\r\n"
     ]
    }
   ],
   "source": [
    "!ls -l test_model.onnx "
   ]
  },
  {
   "cell_type": "markdown",
   "metadata": {},
   "source": [
    "# Install the Intel OpenVino SDK"
   ]
  },
  {
   "cell_type": "markdown",
   "metadata": {},
   "source": [
    "https://software.intel.com/en-us/openvino-toolkit"
   ]
  }
 ],
 "metadata": {
  "kernelspec": {
   "display_name": "Python 3",
   "language": "python",
   "name": "python3"
  },
  "language_info": {
   "codemirror_mode": {
    "name": "ipython",
    "version": 3
   },
   "file_extension": ".py",
   "mimetype": "text/x-python",
   "name": "python",
   "nbconvert_exporter": "python",
   "pygments_lexer": "ipython3",
   "version": "3.5.2"
  }
 },
 "nbformat": 4,
 "nbformat_minor": 2
}
